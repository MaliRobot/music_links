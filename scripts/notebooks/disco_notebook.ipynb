{
 "cells": [
  {
   "cell_type": "code",
   "execution_count": 1,
   "metadata": {
    "collapsed": true
   },
   "outputs": [],
   "source": [
    "from typing import List, Optional\n",
    "import dotenv\n",
    "from dataclasses import dataclass, field\n",
    "import os\n",
    "import time\n",
    "\n",
    "import discogs_client\n",
    "from discogs_client.exceptions import HTTPError"
   ]
  },
  {
   "cell_type": "code",
   "execution_count": 2,
   "outputs": [],
   "source": [
    "@dataclass()\n",
    "class Node:\n",
    "    name: str\n",
    "    discogs_id: int\n",
    "    page_url: str = None\n",
    "\n",
    "\n",
    "@dataclass()\n",
    "class ReleaseNode(Node):\n",
    "    year: int = None\n",
    "\n",
    "\n",
    "@dataclass()\n",
    "class ArtistNode(Node):\n",
    "    image_url: str = None\n",
    "    releases: List[ReleaseNode] = field(default_factory=list)"
   ],
   "metadata": {
    "collapsed": false
   }
  },
  {
   "cell_type": "code",
   "execution_count": 3,
   "outputs": [],
   "source": [
    "@dataclass()\n",
    "class DiscoConnector:\n",
    "    client: discogs_client.Client = None\n",
    "    auth_url: str = None\n",
    "    request_token: str = None\n",
    "    request_secret: str = None\n",
    "    token: str = None\n",
    "    secret: str = None\n",
    "\n",
    "    def __init__(self, key, secret):\n",
    "        self.client = discogs_client.Client(\n",
    "            \"MaliRobot/1.0\",\n",
    "            consumer_key=key,\n",
    "            consumer_secret=secret\n",
    "        )\n",
    "\n",
    "    def get_new_token(self):\n",
    "        self.request_token, self.request_secret, self.auth_url = self.client.get_authorize_url()\n",
    "\n",
    "        accepted = 'n'\n",
    "        while accepted.lower() == 'n':\n",
    "            print(\"\\n\")\n",
    "            accepted = input(f'Have you authorized me at {self.auth_url} [y/n] :')\n",
    "\n",
    "        oauth_verifier = input('Verification code : ')\n",
    "        token, secret = self.client.get_access_token(oauth_verifier)\n",
    "        self.set_token(token, secret)\n",
    "\n",
    "    def search(self, term: str, type: Optional[str]):\n",
    "        if self.token is None:\n",
    "            self.get_new_token()\n",
    "        try:\n",
    "            return self.client.search(term, type=type)\n",
    "        except discogs_client.exceptions.HTTPError:\n",
    "            self.get_new_token()\n",
    "            self.search(term, type)\n",
    "\n",
    "    def set_token(self, token, secret):\n",
    "        self.token = token\n",
    "        self.secret = secret\n",
    "        self.client.set_token(self.token, self.secret)\n",
    "\n",
    "    def get_release(self, release_id):\n",
    "        return self.client.release(release_id)\n",
    "\n",
    "    def get_artist(self, artist_id):\n",
    "        return self.client.artist(artist_id)\n",
    "\n",
    "    def search_artist(self, artist: str):\n",
    "        results = self.search(artist, type=\"artist\")\n",
    "        for r in results:\n",
    "            if r.name == artist:\n",
    "                artist_node = ArtistNode(\n",
    "                    name=r.name,\n",
    "                    discogs_id=r.id,\n",
    "                    page_url=r.url,\n",
    "                )\n",
    "\n",
    "                if len(r.images) > 0:\n",
    "                    artist_node.image_url = r.images[0]['uri']\n",
    "\n",
    "                return artist_node, r\n",
    "        return None, None"
   ],
   "metadata": {
    "collapsed": false
   }
  },
  {
   "cell_type": "code",
   "execution_count": 4,
   "outputs": [],
   "source": [
    "    dotenv.load_dotenv()\n",
    "    term = \"Adam Green\"\n",
    "\n",
    "    client = DiscoConnector(\n",
    "        key=os.getenv(\"DISCOGS_KEY\"),\n",
    "        secret=os.getenv(\"DISCOGS_SECRET\")\n",
    "    )\n",
    "    client.set_token(\"AQarrhoMZGLUqElIiJAEXwlIbIwEBBOYwhqfkktT\", \"hAmOQhiaFTjPGnxMuiMGlyvOiCyYGYTqbTLRSqJB\")\n",
    "\n",
    "    # client = DiscoSimpleConnector(\n",
    "    #     token=\"TiaUbddZcZbgJVZPMYmHALvIivJKOZUEWVQCMRaz\"\n",
    "    # )\n",
    "    start = time.time()\n",
    "    artist_node, artist = client.search_artist(term)\n",
    "    if not artist:\n",
    "        print(\"no artist\")\n"
   ],
   "metadata": {
    "collapsed": false
   }
  },
  {
   "cell_type": "code",
   "execution_count": 5,
   "outputs": [
    {
     "name": "stdout",
     "output_type": "stream",
     "text": [
      "<Artist 138069 'Adam Green'>\n"
     ]
    }
   ],
   "source": [
    "print(artist)"
   ],
   "metadata": {
    "collapsed": false
   }
  },
  {
   "cell_type": "code",
   "execution_count": 6,
   "outputs": [
    {
     "name": "stdout",
     "output_type": "stream",
     "text": [
      "['__class__', '__delattr__', '__dict__', '__dir__', '__doc__', '__eq__', '__format__', '__ge__', '__getattribute__', '__getitem__', '__getstate__', '__gt__', '__hash__', '__init__', '__init_subclass__', '__iter__', '__le__', '__len__', '__lt__', '__module__', '__ne__', '__new__', '__reduce__', '__reduce_ex__', '__repr__', '__setattr__', '__sizeof__', '__str__', '__subclasshook__', '__weakref__', '_filters', '_invalidate', '_list_key', '_load_pagination_info', '_num_items', '_num_pages', '_pages', '_per_page', '_sort_key', '_sort_order', '_transform', '_url_for_page', 'client', 'count', 'filter', 'page', 'pages', 'per_page', 'sort', 'url']\n"
     ]
    }
   ],
   "source": [
    "rels = artist.releases\n",
    "print(dir(rels))"
   ],
   "metadata": {
    "collapsed": false
   }
  },
  {
   "cell_type": "code",
   "execution_count": 7,
   "outputs": [
    {
     "name": "stdout",
     "output_type": "stream",
     "text": [
      "[<Master 2412817 'Dance With Me'>, <Master 368237 'Garfield'>, <Master 141963 'Jessica / Kokomo'>, <Master 109277 'Friends Of Mine'>, <Master 141962 'Emily'>, <Master 237363 'Carolina*'>, <Master 109282 'Friends Of Mine'>, <Release 3228008 'Gemstones EPK'>, <Release 5680502 'Gemstones (Album Sampler)'>, <Master 109279 'Gemstones*'>, <Release 19914556 'Tour Sampler'>, <Master 212516 'Nat King Cole'>, <Master 109281 'Jacket Full Of Danger'>, <Release 21278101 'Morning After Midnight (Pixelated Version)'>, <Master 1142807 'Daytrotter Studio 8/5/2008'>, <Master 109280 'Sixes & Sevens'>, <Master 1752951 'Morning After Midnight'>, <Master 1752956 'Twee Twee Dee'>, <Master 335803 'Minor Love'>, <Master 372178 'I Will'>, <Master 1295849 'What Makes Him Act So Bad'>, <Release 2548208 'Musik For A Play'>, <Master 1752954 'Buddy Bradley'>, <Master 517717 'Adam Green & Binki Shapiro'>, <Release 5040522 'Pity Love'>, <Release 9908935 'Studio Paradiso 2/20/2013'>, <Master 1752961 'Nature Of The Clown'>, <Master 997196 'Aladdin'>, <Release 15701949 'Cheating On A Stranger'>, <Master 1663891 'Engine Of Paradise'>, <Master 1752960 'All Hell Breaks Loose'>, <Master 2897086 'That Fucking Feeling'>, <Release 4427967 'Just To Make Me Feel Good'>, <Master 440788 'Cardia'>, <Release 1873042 'Diarrhea Of A Madman'>, <Release 2016028 'Songs For The Wrong'>, <Master 108836 'Hell-O!'>, <Master 2843611 'Comme Une Histoire / Sans Paroles (Coffret Collector \"20 Ans\")'>, <Master 823216 'Wow & Flutter'>, <Release 1873042 'Diarrhea Of A Madman'>, <Release 1403653 'Road Trip / Another Private Conversation'>, <Release 12553271 'X-Ray Vision'>, <Release 1974878 'Épicerie Fine 2001'>, <Master 2694569 'This Springtime, And Others'>, <Master 109289 'The Moldy Peaches'>, <Release 6674130 'Garage Days (Music From The Alex Proyas Film)'>, <Master 818992 'Antifolk Vol. 1'>, <Release 1276053 'New Noises Vol. 60'>, <Release 2970711 'Rolling Stone Sampler N°10 - Juillet-Août 2003'>, <Master 26232 \"Stop Me If You Think You've Heard This One Before...\">]\n"
     ]
    }
   ],
   "source": [
    "print([x for x in rels.page(0)])"
   ],
   "metadata": {
    "collapsed": false
   }
  },
  {
   "cell_type": "code",
   "execution_count": 8,
   "outputs": [
    {
     "name": "stdout",
     "output_type": "stream",
     "text": [
      "['__class__', '__delattr__', '__dict__', '__dir__', '__doc__', '__eq__', '__format__', '__ge__', '__getattribute__', '__getstate__', '__gt__', '__hash__', '__init__', '__init_subclass__', '__le__', '__lt__', '__module__', '__ne__', '__new__', '__reduce__', '__reduce_ex__', '__repr__', '__setattr__', '__sizeof__', '__str__', '__subclasshook__', '__weakref__', '_known_invalid_keys', 'changes', 'client', 'data', 'data_quality', 'delete', 'fetch', 'genres', 'id', 'images', 'main_release', 'previous_request', 'refresh', 'save', 'styles', 'title', 'tracklist', 'url', 'versions', 'videos', 'year']\n"
     ]
    }
   ],
   "source": [
    "print(dir(rels.page(0)[0]))"
   ],
   "metadata": {
    "collapsed": false
   }
  },
  {
   "cell_type": "code",
   "execution_count": 9,
   "outputs": [
    {
     "name": "stdout",
     "output_type": "stream",
     "text": [
      "{'id': 2412817, 'title': 'Dance With Me', 'type': 'master', 'main_release': 406090, 'artist': 'Adam Green', 'role': 'Main', 'resource_url': 'https://api.discogs.com/masters/2412817', 'year': 2002, 'thumb': 'https://i.discogs.com/JfIOQ8l92EIV_Apk_dIY66HT9Q3-29fdrWh3RzvsWY0/rs:fit/g:sm/q:40/h:150/w:150/czM6Ly9kaXNjb2dz/LWRhdGFiYXNlLWlt/YWdlcy9SLTQwNjA5/MC0xMTA5MTYzMTg3/LmpwZw.jpeg', 'stats': {'community': {'in_wantlist': 19, 'in_collection': 60}, 'user': {'in_wantlist': 0, 'in_collection': 0}}}\n"
     ]
    }
   ],
   "source": [
    "print(rels.page(0)[0].data)"
   ],
   "metadata": {
    "collapsed": false
   }
  },
  {
   "cell_type": "code",
   "execution_count": 10,
   "outputs": [
    {
     "name": "stdout",
     "output_type": "stream",
     "text": [
      "4\n"
     ]
    }
   ],
   "source": [
    "print(rels.pages)"
   ],
   "metadata": {
    "collapsed": false
   }
  },
  {
   "cell_type": "code",
   "execution_count": 11,
   "outputs": [
    {
     "name": "stdout",
     "output_type": "stream",
     "text": [
      "<Master 2412817 'Dance With Me'>\n",
      "<Master 368237 'Garfield'>\n",
      "<Master 141963 'Jessica / Kokomo'>\n",
      "<Master 109277 'Friends Of Mine'>\n",
      "<Master 141962 'Emily'>\n",
      "<Master 237363 'Carolina*'>\n",
      "<Master 109282 'Friends Of Mine'>\n",
      "<Release 3228008 'Gemstones EPK'>\n",
      "<Release 5680502 'Gemstones (Album Sampler)'>\n",
      "<Master 109279 'Gemstones*'>\n",
      "<Release 19914556 'Tour Sampler'>\n",
      "<Master 212516 'Nat King Cole'>\n",
      "<Master 109281 'Jacket Full Of Danger'>\n",
      "<Release 21278101 'Morning After Midnight (Pixelated Version)'>\n",
      "<Master 1142807 'Daytrotter Studio 8/5/2008'>\n",
      "<Master 109280 'Sixes & Sevens'>\n",
      "<Master 1752951 'Morning After Midnight'>\n",
      "<Master 1752956 'Twee Twee Dee'>\n",
      "<Master 335803 'Minor Love'>\n",
      "<Master 372178 'I Will'>\n",
      "<Master 1295849 'What Makes Him Act So Bad'>\n",
      "<Release 2548208 'Musik For A Play'>\n",
      "<Master 1752954 'Buddy Bradley'>\n",
      "<Master 517717 'Adam Green & Binki Shapiro'>\n",
      "<Release 5040522 'Pity Love'>\n",
      "<Release 9908935 'Studio Paradiso 2/20/2013'>\n",
      "<Master 1752961 'Nature Of The Clown'>\n",
      "<Master 997196 'Aladdin'>\n",
      "<Release 15701949 'Cheating On A Stranger'>\n",
      "<Master 1663891 'Engine Of Paradise'>\n",
      "<Master 1752960 'All Hell Breaks Loose'>\n",
      "<Master 2897086 'That Fucking Feeling'>\n",
      "<Release 4427967 'Just To Make Me Feel Good'>\n",
      "<Master 440788 'Cardia'>\n",
      "<Release 1873042 'Diarrhea Of A Madman'>\n",
      "<Release 2016028 'Songs For The Wrong'>\n",
      "<Master 108836 'Hell-O!'>\n",
      "<Master 2843611 'Comme Une Histoire / Sans Paroles (Coffret Collector \"20 Ans\")'>\n",
      "<Master 823216 'Wow & Flutter'>\n",
      "<Release 1873042 'Diarrhea Of A Madman'>\n",
      "<Release 1403653 'Road Trip / Another Private Conversation'>\n",
      "<Release 12553271 'X-Ray Vision'>\n",
      "<Release 1974878 'Épicerie Fine 2001'>\n",
      "<Master 2694569 'This Springtime, And Others'>\n",
      "<Master 109289 'The Moldy Peaches'>\n",
      "<Release 6674130 'Garage Days (Music From The Alex Proyas Film)'>\n",
      "<Master 818992 'Antifolk Vol. 1'>\n",
      "<Release 1276053 'New Noises Vol. 60'>\n",
      "<Release 2970711 'Rolling Stone Sampler N°10 - Juillet-Août 2003'>\n",
      "<Master 26232 \"Stop Me If You Think You've Heard This One Before...\">\n",
      "<Release 424824 'Musikexpress 93 - Sounds Now!'>\n",
      "<Release 1814921 'Inside Riot 1999–2002'>\n",
      "<Release 1973032 'King Of Pop'>\n",
      "<Master 153698 'Hidden Vagenda'>\n",
      "<Release 445887 'Musikexpress 100 - Sounds Live! Die Besten Festival-Acts 2005'>\n",
      "<Master 1068354 'Under The Influence'>\n",
      "<Release 818762 'Words You Used To Say'>\n",
      "<Release 2136590 '2003 (Ein Jahr Und Seine 20 Songs) '>\n",
      "<Release 12468808 'The So Long Sessions'>\n",
      "<Master 56882 'Juno (Music From The Motion Picture)'>\n",
      "<Master 1373398 'Translated From Love'>\n",
      "<Release 1246663 'Objectif 2008 - Vol. 2'>\n",
      "<Release 1317144 'All Areas Volume 90'>\n",
      "<Master 109285 'Little Joy'>\n",
      "<Release 1920233 'AIR'>\n",
      "<Master 1060604 'Whip It'>\n",
      "<Master 706030 'Harper Simon'>\n",
      "<Release 2134082 'Objectif 2010 Vol. 2'>\n",
      "<Master 1021694 'The Lady Boy Tapes E.P'>\n",
      "<Release 3189458 \"L'Anthologie Des InRocks - 25 Ans De Musique\">\n",
      "<Release 5056364 'Covers'>\n",
      "<Release 4312048 'ME-CD Nr. 0213'>\n",
      "<Master 576822 'From Lo-Fi To Disco!'>\n",
      "<Master 706282 'Cavalo'>\n",
      "<Master 732782 'Let Me Go'>\n",
      "<Release 5162520 'II'>\n",
      "<Release 6859780 \"Doubting Won't Do\">\n",
      "<Master 990766 'Bird Eyes'>\n",
      "<Release 8474626 'ME-CD Nr. 0516 '>\n",
      "<Master 1443602 'Olympus Sleeping'>\n",
      "<Release 13898736 \"La Bande-son De L'été 2019 Volume 3\">\n",
      "<Master 1548849 'Zagg'>\n",
      "<Release 16081168 'Pure Night Plus'>\n",
      "<Release 18886696 'Au dehors II'>\n",
      "<Release 22677728 'Bayonne Trash'>\n",
      "<Master 2911105 'For The Birds: The Birdsong Project, Vol. I - V'>\n",
      "<Master 2873572 'Sap'>\n",
      "<Master 2530678 'Origin Story 1994-1999'>\n",
      "<Release 8445950 'Twirl It Like A Magic Wand'>\n",
      "<Release 18382912 \"Hi, What's Your Name?\">\n",
      "<Release 1661483 'Call It What You Want - This Is Antifolk'>\n",
      "<Release 2872536 'Rolling Stone Sampler N°03'>\n",
      "<Release 4133868 'Where Does All The Money Go? A Rough Trade Records Compilation'>\n",
      "<Release 9984696 'Rough Trade'>\n",
      "<Master 818992 'Antifolk Vol. 1'>\n",
      "<Release 180045 'SPEX CD #31'>\n",
      "<Release 418899 'Oorgasm 14'>\n",
      "<Release 540273 'Juin 2003'>\n",
      "<Release 1276053 'New Noises Vol. 60'>\n",
      "<Release 1681758 'The Cornerstone Player 045'>\n",
      "<Release 2970711 'Rolling Stone Sampler N°10 - Juillet-Août 2003'>\n",
      "<Release 3043199 \"A Rough Trade America Sampler: Burgers Hot & Cold S? - Don't Let The Record Label Take You Out To Lunch!\">\n",
      "<Release 12535923 'Radio Cookie Scene 0015 January 2004 / December 2003'>\n",
      "<Release 13632187 'Indétendances 14'>\n",
      "<Release 22677318 'Unicornsounds Volume One'>\n",
      "<Master 26232 \"Stop Me If You Think You've Heard This One Before...\">\n",
      "<Master 543583 'Specialten'>\n",
      "<Release 424824 'Musikexpress 93 - Sounds Now!'>\n",
      "<Release 763255 'Blue Balearic'>\n",
      "<Release 1900628 'Momentos_2003'>\n",
      "<Release 2466573 'A Brilliantine Mortality'>\n",
      "<Release 2596265 'Handsome Devil - Rough Trade XXI'>\n",
      "<Release 3080231 '18 Allein Unter Mädchen'>\n",
      "<Release 9315548 'CD Ohne Namen Vol. 2'>\n",
      "<Release 9327817 'RESDVD Vol.7 No.1 / Random Shuffle'>\n",
      "<Release 16230250 'CMJ New Music Monthly Volume 119'>\n",
      "<Release 19488718 'Wintercase San Miguel 2004'>\n",
      "<Release 19624360 'Topshop Topman International #24A'>\n",
      "<Release 19763254 'Topshop Topman #093'>\n",
      "<Release 19763257 'Topshop Topman #094'>\n",
      "<Release 445887 'Musikexpress 100 - Sounds Live! Die Besten Festival-Acts 2005'>\n",
      "<Release 1631850 'Sinnamon Records'>\n",
      "<Release 1712503 'New Noises Vol. 69'>\n",
      "<Release 3009258 'Festivalguide DVD 2005'>\n",
      "<Release 4755371 'The Cornerstone Player 058'>\n",
      "<Release 12895134 '#2'>\n",
      "<Release 13165935 '100% Sinnamon'>\n",
      "<Release 13977335 'The Cornerstone Player 059'>\n",
      "<Release 14046077 'Rock Open'>\n",
      "<Release 19766110 'Topshop Topman #122'>\n",
      "<Release 20341054 'El Planeta Amarillo #7 Marte'>\n",
      "<Master 508236 'Objectif 2005 - Vol. 1'>\n",
      "<Release 763616 'Objectif 2006 - Vol. 2'>\n",
      "<Release 2136590 '2003 (Ein Jahr Und Seine 20 Songs) '>\n",
      "<Release 10196085 'Vibrations Présente Montreux Jazz Festival New Sounds 2006'>\n",
      "<Master 755921 'Rock Open 2006'>\n",
      "<Release 7083523 'Woodsongs - Singers, Pickers & Storytellers - The New Folk'>\n",
      "<Master 766918 'Woodsongs: Singers, Pickers & Storytellers'>\n",
      "<Release 1246663 'Objectif 2008 - Vol. 2'>\n",
      "<Release 1317144 'All Areas Volume 90'>\n",
      "<Release 1424698 'Seen And Heard: 4AD & Rough Trade 2008 Sampler'>\n",
      "<Release 15760428 'New Folk Sounds - The Best Of Alternative Country'>\n",
      "<Master 1795851 'Folk & Proud'>\n",
      "<Master 2154232 'Now Hear This! (15 Great Tunes Hand-Picked By The Word) (April 2008)'>\n",
      "<Release 1920233 'AIR'>\n",
      "<Release 1949928 '15 Geburtstags - Lieder'>\n",
      "<Release 2725221 'FBI: The Live Feed'>\n",
      "<Release 11955703 'Rough Trade For Indie'>\n",
      "<Release 2134082 'Objectif 2010 Vol. 2'>\n",
      "<Release 2951458 'Les Inrockuptibles - Best Of 2000-2010'>\n",
      "<Release 4985105 'Paste Magazine New - Music Sampler March 2010 Issue 61'>\n",
      "<Master 967417 'Piana'>\n",
      "<Release 4312048 'ME-CD Nr. 0213'>\n",
      "<Release 4495015 'Play With Courage.: UMGD Record Store Day Sampler'>\n",
      "<Release 9113497 'Between The Lines 6 - The Sky Is Big Today'>\n",
      "<Release 8474626 'ME-CD Nr. 0516 '>\n",
      "<Release 13898736 \"La Bande-son De L'été 2019 Volume 3\">\n",
      "<Release 14041805 'Musikexpress 09/19'>\n",
      "<Release 14057472 'New Noises Vol. 148'>\n",
      "<Release 14245836 'Approaching Perfection: A Tribute To DC Berman'>\n",
      "<Master 1700753 'Hanukkah +'>\n",
      "<Master 2911105 'For The Birds: The Birdsong Project'>\n",
      "<Release 9233457 'Ringleaders Of The Antifolk Movement'>\n",
      "<Release 15978526 \"The Rough Guide To What's New On Rough Trade Records\">\n",
      "<Release 20860114 \"Superсборка (#02'05)\">\n",
      "<Release 691406 'Babyshambles Sessions'>\n",
      "<Release 2546504 'In Love With A Girl With No Legs'>\n",
      "<Release 787403 'Another Boy, Another Planet'>\n",
      "<Master 56882 'Juno (Music From The Motion Picture)'>\n",
      "<Release 2384545 'The Black Sessions'>\n"
     ]
    }
   ],
   "source": [
    "for r in artist.releases:\n",
    "    print(r)"
   ],
   "metadata": {
    "collapsed": false
   }
  },
  {
   "cell_type": "code",
   "execution_count": 13,
   "outputs": [
    {
     "name": "stdout",
     "output_type": "stream",
     "text": [
      "170\n",
      "170\n"
     ]
    }
   ],
   "source": [
    "print(len(artist.releases))"
   ],
   "metadata": {
    "collapsed": false
   }
  },
  {
   "cell_type": "code",
   "execution_count": 23,
   "outputs": [
    {
     "name": "stdout",
     "output_type": "stream",
     "text": [
      "['__class__', '__delattr__', '__dict__', '__dir__', '__doc__', '__eq__', '__format__', '__ge__', '__getattribute__', '__getstate__', '__gt__', '__hash__', '__init__', '__init_subclass__', '__le__', '__lt__', '__module__', '__ne__', '__new__', '__reduce__', '__reduce_ex__', '__repr__', '__setattr__', '__sizeof__', '__str__', '__subclasshook__', '__weakref__', '_known_invalid_keys', 'artists', 'artists_sort', 'changes', 'client', 'community', 'companies', 'country', 'credits', 'data', 'data_quality', 'delete', 'fetch', 'formats', 'genres', 'id', 'images', 'labels', 'marketplace_stats', 'master', 'notes', 'previous_request', 'price_suggestions', 'refresh', 'save', 'status', 'styles', 'thumb', 'title', 'tracklist', 'url', 'videos', 'year']\n",
      "['Jay-J & Chris Lum', 'Soulfranciscins']\n",
      "Give It Up (For Love)\n",
      "1810762\n",
      "[<Artist 14862 'Jay-J & Chris Lum'>]\n"
     ]
    }
   ],
   "source": [
    "release = client.get_release(1810762)\n",
    "print(dir(release))\n",
    "print([x.name for x in release.artists])\n",
    "print(release.title)\n",
    "print(release.id)\n",
    "print(release.credits)"
   ],
   "metadata": {
    "collapsed": false
   }
  },
  {
   "cell_type": "code",
   "execution_count": 21,
   "outputs": [
    {
     "name": "stdout",
     "output_type": "stream",
     "text": [
      "Partibrejkers\n"
     ]
    }
   ],
   "source": [
    "artist = client.get_artist(709480)\n",
    "print(artist.name)"
   ],
   "metadata": {
    "collapsed": false
   }
  },
  {
   "cell_type": "code",
   "execution_count": null,
   "outputs": [],
   "source": [],
   "metadata": {
    "collapsed": false
   }
  }
 ],
 "metadata": {
  "kernelspec": {
   "display_name": "Python 3",
   "language": "python",
   "name": "python3"
  },
  "language_info": {
   "codemirror_mode": {
    "name": "ipython",
    "version": 2
   },
   "file_extension": ".py",
   "mimetype": "text/x-python",
   "name": "python",
   "nbconvert_exporter": "python",
   "pygments_lexer": "ipython2",
   "version": "2.7.6"
  }
 },
 "nbformat": 4,
 "nbformat_minor": 0
}
